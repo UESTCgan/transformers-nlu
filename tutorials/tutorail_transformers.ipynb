{
 "cells": [
  {
   "cell_type": "markdown",
   "source": [
    "### Copyright (c) 2021 by Phuc Phan"
   ],
   "metadata": {}
  },
  {
   "cell_type": "code",
   "execution_count": null,
   "source": [],
   "outputs": [],
   "metadata": {}
  }
 ],
 "metadata": {
  "orig_nbformat": 4,
  "language_info": {
   "name": "python"
  }
 },
 "nbformat": 4,
 "nbformat_minor": 2
}